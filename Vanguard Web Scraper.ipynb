{
 "cells": [
  {
   "cell_type": "code",
   "execution_count": 1,
   "metadata": {},
   "outputs": [],
   "source": [
    "from selenium import webdriver\n",
    "from bs4 import BeautifulSoup\n",
    "import pandas as pd"
   ]
  },
  {
   "cell_type": "code",
   "execution_count": 3,
   "metadata": {},
   "outputs": [],
   "source": [
    "driver = webdriver.Chrome('C:/Users/Trent/Downloads/chromedriver_win32/chromedriver.exe')"
   ]
  },
  {
   "cell_type": "code",
   "execution_count": 9,
   "metadata": {},
   "outputs": [],
   "source": [
    "symbols=[]\n",
    "sharesheld=[]\n",
    "driver.get('https://investor.vanguard.com/etf/profile/overview/VIG/portfolio-holdings')"
   ]
  },
  {
   "cell_type": "code",
   "execution_count": null,
   "metadata": {},
   "outputs": [],
   "source": [
    "i = 0\n",
    "while i  <1000:\n",
    "        shar = driver.find_elements_by_css_selector('span.ng-scope.ng-binding')\n",
    "        x=1\n",
    "        for c in range(30):\n",
    "            name=driver.find_element_by_xpath(\"//tbody[1]/tr[@class='ng-scope'][{}]/td[@class='ng-scope fixedCol']\".format(x)).text\n",
    "            symbols.append(name)\n",
    "            numshares=driver.find_element_by_xpath(\"//div[@class='scrollingTableOverFlow']/table[@class='dataTable holdings-table scrollingTableRight']/tbody/tr[@class='ng-scope'][{}]/td[@class='ng-scope'][1]\".format(x)).text\n",
    "            sharesheld.append(numshares)\n",
    "        \n",
    "            x+=1\n",
    "    \n",
    "        driver.find_element_by_xpath(\"//a[contains(text(), 'Next')]\").click()\n",
    "        i +=1"
   ]
  },
  {
   "cell_type": "code",
   "execution_count": null,
   "metadata": {},
   "outputs": [],
   "source": [
    "print(symbols)\n",
    "print (sharesheld)"
   ]
  },
  {
   "cell_type": "code",
   "execution_count": 12,
   "metadata": {},
   "outputs": [
    {
     "name": "stdout",
     "output_type": "stream",
     "text": [
      "212\n",
      "212\n"
     ]
    }
   ],
   "source": [
    "print(len(sharesheld))\n",
    "print(len(symbols))"
   ]
  },
  {
   "cell_type": "code",
   "execution_count": 13,
   "metadata": {},
   "outputs": [],
   "source": [
    "df = pd.DataFrame(list(zip(symbols, sharesheld)), columns=['Name', 'Number of Shares'])\n",
    "\n",
    "VIGdata = df.to_csv('VIG.csv', index=False)"
   ]
  },
  {
   "cell_type": "code",
   "execution_count": null,
   "metadata": {},
   "outputs": [],
   "source": []
  }
 ],
 "metadata": {
  "kernelspec": {
   "display_name": "Python 3",
   "language": "python",
   "name": "python3"
  },
  "language_info": {
   "codemirror_mode": {
    "name": "ipython",
    "version": 3
   },
   "file_extension": ".py",
   "mimetype": "text/x-python",
   "name": "python",
   "nbconvert_exporter": "python",
   "pygments_lexer": "ipython3",
   "version": "3.8.3"
  }
 },
 "nbformat": 4,
 "nbformat_minor": 4
}
